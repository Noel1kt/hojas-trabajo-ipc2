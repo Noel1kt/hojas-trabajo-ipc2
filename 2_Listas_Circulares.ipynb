{
  "nbformat": 4,
  "nbformat_minor": 0,
  "metadata": {
    "colab": {
      "provenance": [],
      "authorship_tag": "ABX9TyOEj5NygQdyucWAUQG4Hw4j",
      "include_colab_link": true
    },
    "kernelspec": {
      "name": "python3",
      "display_name": "Python 3"
    },
    "language_info": {
      "name": "python"
    }
  },
  "cells": [
    {
      "cell_type": "markdown",
      "metadata": {
        "id": "view-in-github",
        "colab_type": "text"
      },
      "source": [
        "<a href=\"https://colab.research.google.com/github/Noel1kt/hojas-trabajo-ipc2/blob/main/2_Listas_Circulares.ipynb\" target=\"_parent\"><img src=\"https://colab.research.google.com/assets/colab-badge.svg\" alt=\"Open In Colab\"/></a>"
      ]
    },
    {
      "cell_type": "markdown",
      "source": [
        "### **Listas Circulares**\n",
        " **Definición de la clase Receta**\n"
      ],
      "metadata": {
        "id": "QPwvkWGayIwy"
      }
    },
    {
      "cell_type": "code",
      "execution_count": 13,
      "metadata": {
        "id": "wyqk7yCNsEWn"
      },
      "outputs": [],
      "source": [
        "class receta: \n",
        "  def __init__(self, paciente, fecha_nac, doctor, colegiado, fecha_cita,\n",
        "               hora_cita, tipo_consulta, tratamiento):\n",
        "    self.paciente = paciente\n",
        "    self.fecha_nac = fecha_nac\n",
        "    self.doctor = doctor\n",
        "    self.colegiado = colegiado\n",
        "    self.fecha_cita = fecha_cita\n",
        "    self.hora_cita = hora_cita\n",
        "    self.tipo_consulta = tipo_consulta\n",
        "    self.tratamiento = tratamiento "
      ]
    },
    {
      "cell_type": "code",
      "source": [
        "class nodo: \n",
        "  def __init__(self, receta=None, siguiente=None):\n",
        "    self.receta = receta\n",
        "    self.siguiente = siguiente"
      ],
      "metadata": {
        "id": "tgMv2hfyyWmt"
      },
      "execution_count": 14,
      "outputs": []
    },
    {
      "cell_type": "markdown",
      "source": [
        "***Definición de la clase Lista Circular***"
      ],
      "metadata": {
        "id": "QMTL47BFzHIR"
      }
    },
    {
      "cell_type": "code",
      "source": [
        "class lista_circular:\n",
        "  def __init__(self):\n",
        "      self.primero = None\n",
        "\n",
        "  def insertar(self, receta):\n",
        "    if self.primero is None: \n",
        "      self.primero = nodo(receta = receta)\n",
        "      self.primero.siguiente = self.primero\n",
        "    else: \n",
        "      actual = nodo(receta = receta, siguiente = self.primero.siguiente) \n",
        "      self.primero.siguiente = actual\n",
        "   \n",
        "  def recorrer(self):\n",
        "    if self.primero is None:\n",
        "      return\n",
        "    actual = self.primero\n",
        "    print(\"Paciente: \",actual.receta.paciente, \"| Fecha de nacimiento: \", actual.receta.fecha_nac, \"| Doctor: \", actual.receta.doctor,\n",
        "            \"| Colegiado: \", actual.receta.colegiado, \"| Fecha de cita: \", actual.receta.fecha_cita, \"| Hora de cita: \", actual.receta.hora_cita, \n",
        "            \"| Tipo de consulta: \", actual.receta.tipo_consulta, \"| Tratamineto\", actual.receta.tratamiento)\n",
        "    while actual.siguiente != self.primero:\n",
        "      actual = actual.siguiente\n",
        "      print(\"Paciente: \",actual.receta.paciente, \"| Fecha de nacimiento: \", actual.receta.fecha_nac, \"| Doctor: \", actual.receta.doctor,\n",
        "            \"| Colegiado: \", actual.receta.colegiado, \"| Fecha de cita: \", actual.receta.fecha_cita, \"| Hora de cita: \", actual.receta.hora_cita, \n",
        "            \"| Tipo de consulta: \", actual.receta.tipo_consulta, \"| Tratamineto\", actual.receta.tratamiento)\n",
        "\n",
        "  def eliminar(self, colegiado, fecha_cita, hora_cita): \n",
        "    actual = self.primero\n",
        "    anterior = None\n",
        "    no_encontrado = False\n",
        "\n",
        "    while actual and actual.receta.colegiado != colegiado and actual.receta.fecha_cita != fecha_cita and actual.receta.hora_cita != hora_cita:\n",
        "      anterior = actual\n",
        "      actual = actual.siguiente\n",
        "\n",
        "      if actual == self.primero:\n",
        "        no_encontrado = True \n",
        "        print(\"No encontrado\")\n",
        "        break \n",
        "\n",
        "    if not no_encontrado:\n",
        "        if anterior is not None:\n",
        "          anterior.siguiente = actual.siguiente\n",
        "          actual.siguiente = None\n",
        "        else: \n",
        "          while actual.siguiente != self.primero:\n",
        "            actual = actual.siguiente\n",
        "          actual.siguiente = self.primero.siguiente\n",
        "          self.primero = self.primero.siguiente\n",
        "\n",
        "  def modificar(self, paciente, fecha_cita, hora_cita): \n",
        "    actual = self.primero\n",
        "    anterior = None\n",
        "    no_encontrado = False\n",
        "    nuevafecha = fecha_cita\n",
        "    nuevahora = hora_cita\n",
        "\n",
        "    while actual and actual.receta.paciente != paciente:\n",
        "      anterior = actual\n",
        "      actual = actual.siguiente\n",
        "\n",
        "      if actual == self.primero:\n",
        "        no_encontrado = True \n",
        "        print(\"No encontrado\")\n",
        "        break \n",
        "\n",
        "    if actual.receta.paciente == paciente:\n",
        "      actual.receta.fecha_cita = nuevafecha\n",
        "      actual.receta.hora_cita = nuevahora\n",
        "\n",
        "    "
      ],
      "metadata": {
        "id": "Ub9msNoJzN85"
      },
      "execution_count": 15,
      "outputs": []
    },
    {
      "cell_type": "code",
      "source": [
        "r1 = receta(\"Gerson López\", \"03-10-1990\", \"Melvin Ortiz\", 29156, \"17-01-2023\", \"11:30\",\n",
        "            \"Medicina General\", \"2 pildoras de acetaminofén cada 6 horasa\")\n",
        "r2 = receta(\"Karen Gómez\", \"08-05-2000\", \"Jorge Merida\", 8567, \"31-01-2023\", \"09:00\",\n",
        "            \"Medicina interna\", \"Tylenol de 20 ml cada 4 horas\")\n",
        "r3 = receta(\"Luis García\", \"17-09-1987\", \"Melvin Ortiz\", 20156, \"02-02-2023\", \"12:00\", \n",
        "            \"Medicina general\", \"2 cucharadas de Pepto-Bismol cada hora hasta que la diarrea desaparezca\")"
      ],
      "metadata": {
        "id": "OfMv3r5VxOk0"
      },
      "execution_count": 16,
      "outputs": []
    },
    {
      "cell_type": "markdown",
      "source": [
        "#Inserción"
      ],
      "metadata": {
        "id": "WrYHJknRxA9Z"
      }
    },
    {
      "cell_type": "code",
      "source": [
        "lista_c = lista_circular()\n",
        "lista_c.insertar(r1)\n",
        "lista_c.insertar(r2)\n",
        "lista_c.insertar(r3)"
      ],
      "metadata": {
        "id": "TmXtxtLYxGdG"
      },
      "execution_count": 17,
      "outputs": []
    },
    {
      "cell_type": "code",
      "source": [
        "lista_c.recorrer()"
      ],
      "metadata": {
        "colab": {
          "base_uri": "https://localhost:8080/"
        },
        "id": "KXRN2hTM6XbT",
        "outputId": "6ef2529f-92a8-40a2-9285-7232b25cec4b"
      },
      "execution_count": 25,
      "outputs": [
        {
          "output_type": "stream",
          "name": "stdout",
          "text": [
            "Paciente:  Gerson López | Fecha de nacimiento:  03-10-1990 | Doctor:  Melvin Ortiz | Colegiado:  29156 | Fecha de cita:  17-02-2024 | Hora de cita:  08:45 | Tipo de consulta:  Medicina General | Tratamineto 2 pildoras de acetaminofén cada 6 horasa\n",
            "Paciente:  Luis García | Fecha de nacimiento:  17-09-1987 | Doctor:  Melvin Ortiz | Colegiado:  20156 | Fecha de cita:  02-02-2023 | Hora de cita:  12:00 | Tipo de consulta:  Medicina general | Tratamineto 2 cucharadas de Pepto-Bismol cada hora hasta que la diarrea desaparezca\n"
          ]
        }
      ]
    },
    {
      "cell_type": "markdown",
      "source": [
        " **Eliminar nodo**"
      ],
      "metadata": {
        "id": "Ku_TCTTV-fXc"
      }
    },
    {
      "cell_type": "code",
      "source": [
        "lista_c.eliminar(8567,\"31-01-2023\",\"09:00\")"
      ],
      "metadata": {
        "id": "NxxYAgWNiWxK"
      },
      "execution_count": 19,
      "outputs": []
    },
    {
      "cell_type": "markdown",
      "source": [
        "## Modificar "
      ],
      "metadata": {
        "id": "OhYgz0j__dDw"
      }
    },
    {
      "cell_type": "code",
      "source": [
        "lista_c.modificar(\"Gerson López\",\"17-02-2024\",\"08:45\")"
      ],
      "metadata": {
        "id": "CmZ68Gk4_i81"
      },
      "execution_count": 24,
      "outputs": []
    }
  ]
}