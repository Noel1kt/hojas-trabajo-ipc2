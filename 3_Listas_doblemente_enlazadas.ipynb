{
  "nbformat": 4,
  "nbformat_minor": 0,
  "metadata": {
    "colab": {
      "provenance": [],
      "authorship_tag": "ABX9TyO3bV29t5cse2lghQDGNbrS",
      "include_colab_link": true
    },
    "kernelspec": {
      "name": "python3",
      "display_name": "Python 3"
    },
    "language_info": {
      "name": "python"
    }
  },
  "cells": [
    {
      "cell_type": "markdown",
      "metadata": {
        "id": "view-in-github",
        "colab_type": "text"
      },
      "source": [
        "<a href=\"https://colab.research.google.com/github/Noel1kt/hojas-trabajo-ipc2/blob/main/3_Listas_doblemente_enlazadas.ipynb\" target=\"_parent\"><img src=\"https://colab.research.google.com/assets/colab-badge.svg\" alt=\"Open In Colab\"/></a>"
      ]
    },
    {
      "cell_type": "markdown",
      "source": [
        "Definición de la lista doble"
      ],
      "metadata": {
        "id": "vwM6J7pnpGgB"
      }
    },
    {
      "cell_type": "code",
      "execution_count": 1,
      "metadata": {
        "id": "87CQ5Oeao5qM"
      },
      "outputs": [],
      "source": [
        "class receta: \n",
        "  def __init__(self, paciente, fecha_nac, doctor, colegiado, fecha_cita,\n",
        "               hora_cita, tipo_consulta, tratamiento):\n",
        "    self.paciente = paciente\n",
        "    self.fecha_nac = fecha_nac\n",
        "    self.doctor = doctor\n",
        "    self.colegiado = colegiado\n",
        "    self.fecha_cita = fecha_cita\n",
        "    self.hora_cita = hora_cita\n",
        "    self.tipo_consulta = tipo_consulta\n",
        "    self.tratamiento = tratamiento"
      ]
    },
    {
      "cell_type": "markdown",
      "source": [
        "Definición clase nodo \n"
      ],
      "metadata": {
        "id": "PoahNqe_pNOL"
      }
    },
    {
      "cell_type": "code",
      "source": [
        "class nodo: \n",
        "  def __init__(self, receta=None, siguiente=None, anterior=None):\n",
        "    self.receta = receta\n",
        "    self.siguiente = siguiente\n",
        "    anterior = anterior "
      ],
      "metadata": {
        "id": "CVOrETcBpQnk"
      },
      "execution_count": 2,
      "outputs": []
    },
    {
      "cell_type": "markdown",
      "source": [
        "Definición de la Clase Lista Doblemente Enlazada "
      ],
      "metadata": {
        "id": "b8-4w0k3sQBx"
      }
    },
    {
      "cell_type": "code",
      "source": [
        "class lista_doble:\n",
        "  def __init__(self):\n",
        "    self.primero = None\n",
        "\n",
        "  def insertar(self, receta):\n",
        "    if self.primero is None:\n",
        "      self.primero = nodo(receta = receta)\n",
        "    else: \n",
        "      actual = nodo(receta = receta, siguiente=self.primero)\n",
        "      self.primero.anterior = actual\n",
        "      self.primero = actual\n",
        "  \n",
        "  def recorrer(self):\n",
        "    if self.primero is None:\n",
        "      return\n",
        "    actual = self.primero\n",
        "    print(\"Paciente: \",actual.receta.paciente, \"| Fecha de nacimiento: \", actual.receta.fecha_nac, \"| Doctor: \", actual.receta.doctor,\n",
        "            \"| Colegiado: \", actual.receta.colegiado, \"| Fecha de cita: \", actual.receta.fecha_cita, \"| Hora de cita: \", actual.receta.hora_cita, \n",
        "            \"| Tipo de consulta: \", actual.receta.tipo_consulta, \"| Tratamineto\", actual.receta.tratamiento)\n",
        "    while actual.siguiente:\n",
        "      actual = actual.siguiente \n",
        "      print(\"Paciente: \",actual.receta.paciente, \"| Fecha de nacimiento: \", actual.receta.fecha_nac, \"| Doctor: \", actual.receta.doctor,\n",
        "            \"| Colegiado: \", actual.receta.colegiado, \"| Fecha de cita: \", actual.receta.fecha_cita, \"| Hora de cita: \", actual.receta.hora_cita, \n",
        "            \"| Tipo de consulta: \", actual.receta.tipo_consulta, \"| Tratamineto\", actual.receta.tratamiento)\n",
        "      \n",
        "  def eliminar(self, colegiado, fecha_cita, hora_cita):\n",
        "    actual = self.primero\n",
        "    while actual: \n",
        "      if actual.receta.colegiado == colegiado and actual.receta.fecha_cita == fecha_cita and actual.receta.hora_cita == hora_cita:\n",
        "        if actual.anterior: \n",
        "          if actual.siguiente:\n",
        "            actual.anterior.siguiente = actual.siguiente\n",
        "            actual.siguiente.anterior = actual.anterior \n",
        "          else: \n",
        "            actual.anterior.siguiente = None\n",
        "            actual.anterior = None\n",
        "        else: \n",
        "          if actual.siguiente: \n",
        "            self.primero = actual.siguiente\n",
        "            actual.siguiente.anterior = None\n",
        "          else: \n",
        "            self.primero = None\n",
        "        return True\n",
        "      else:\n",
        "        actual = actual.siguiente\n",
        "    return False\n",
        "\n",
        "\n",
        "    \n",
        "  def modificar(self, paciente, fecha_cita, hora_cita): \n",
        "    actual = self.primero\n",
        "    anterior = None\n",
        "    no_encontrado = False\n",
        "    nuevafecha = fecha_cita\n",
        "    nuevahora = hora_cita\n",
        "\n",
        "    while actual and actual.receta.paciente != paciente:\n",
        "      anterior = actual\n",
        "      actual = actual.siguiente\n",
        "\n",
        "      if actual == self.primero:\n",
        "        no_encontrado = True \n",
        "        print(\"No encontrado\")\n",
        "        break \n",
        "\n",
        "    if actual.receta.paciente == paciente:\n",
        "      actual.receta.fecha_cita = nuevafecha\n",
        "      actual.receta.hora_cita = nuevahora\n",
        "\n"
      ],
      "metadata": {
        "id": "lxE5o2MTsV1a"
      },
      "execution_count": 11,
      "outputs": []
    },
    {
      "cell_type": "markdown",
      "source": [
        "Creación de objetos\n"
      ],
      "metadata": {
        "id": "CtrbPjlruLdy"
      }
    },
    {
      "cell_type": "code",
      "source": [
        "r1 = receta(\"Gerson López\", \"03-10-1990\", \"Melvin Ortiz\", 29156, \"17-01-2023\", \"11:30\",\n",
        "            \"Medicina General\", \"2 pildoras de acetaminofén cada 6 horasa\")\n",
        "r2 = receta(\"Karen Gómez\", \"08-05-2000\", \"Jorge Merida\", 8567, \"31-01-2023\", \"09:00\",\n",
        "            \"Medicina interna\", \"Tylenol de 20 ml cada 4 horas\")\n",
        "r3 = receta(\"Luis García\", \"17-09-1987\", \"Melvin Ortiz\", 20156, \"02-02-2023\", \"12:00\", \n",
        "            \"Medicina general\", \"2 cucharadas de Pepto-Bismol cada hora hasta que la diarrea desaparezca\")"
      ],
      "metadata": {
        "id": "WSrh7e7ZuNW8"
      },
      "execution_count": 12,
      "outputs": []
    },
    {
      "cell_type": "markdown",
      "source": [
        "Inserción"
      ],
      "metadata": {
        "id": "cYdpcqAouSEl"
      }
    },
    {
      "cell_type": "code",
      "source": [
        "lista_d = lista_doble()\n",
        "lista_d.insertar(r1)\n",
        "lista_d.insertar(r2)\n",
        "lista_d.insertar(r3)"
      ],
      "metadata": {
        "id": "kIA3YnjUuUKa"
      },
      "execution_count": 13,
      "outputs": []
    },
    {
      "cell_type": "markdown",
      "source": [
        "Recorrer Lista"
      ],
      "metadata": {
        "id": "lzqcloZx0bOt"
      }
    },
    {
      "cell_type": "code",
      "source": [
        "lista_d.recorrer()"
      ],
      "metadata": {
        "colab": {
          "base_uri": "https://localhost:8080/"
        },
        "id": "xCecN9nz0dGu",
        "outputId": "2b37ccdb-0837-48fa-f502-5c0b6cb327f5"
      },
      "execution_count": 18,
      "outputs": [
        {
          "output_type": "stream",
          "name": "stdout",
          "text": [
            "Paciente:  Luis García | Fecha de nacimiento:  17-09-1987 | Doctor:  Melvin Ortiz | Colegiado:  20156 | Fecha de cita:  02-02-2023 | Hora de cita:  12:00 | Tipo de consulta:  Medicina general | Tratamineto 2 cucharadas de Pepto-Bismol cada hora hasta que la diarrea desaparezca\n",
            "Paciente:  Gerson López | Fecha de nacimiento:  03-10-1990 | Doctor:  Melvin Ortiz | Colegiado:  29156 | Fecha de cita:  17-02-2024 | Hora de cita:  08:45 | Tipo de consulta:  Medicina General | Tratamineto 2 pildoras de acetaminofén cada 6 horasa\n"
          ]
        }
      ]
    },
    {
      "cell_type": "markdown",
      "source": [
        "**Eliminar el nodo del medio de la lista**"
      ],
      "metadata": {
        "id": "3LwKzTz7uLLS"
      }
    },
    {
      "cell_type": "code",
      "source": [
        "lista_d.eliminar(8567, \"31-01-2023\", \"09:00\")\n",
        "lista_d.recorrer()"
      ],
      "metadata": {
        "colab": {
          "base_uri": "https://localhost:8080/"
        },
        "id": "SsJliExL-wrH",
        "outputId": "732f68a7-6cb7-4ac2-e68f-85341b407b67"
      },
      "execution_count": 15,
      "outputs": [
        {
          "output_type": "stream",
          "name": "stdout",
          "text": [
            "Paciente:  Luis García | Fecha de nacimiento:  17-09-1987 | Doctor:  Melvin Ortiz | Colegiado:  20156 | Fecha de cita:  02-02-2023 | Hora de cita:  12:00 | Tipo de consulta:  Medicina general | Tratamineto 2 cucharadas de Pepto-Bismol cada hora hasta que la diarrea desaparezca\n",
            "Paciente:  Gerson López | Fecha de nacimiento:  03-10-1990 | Doctor:  Melvin Ortiz | Colegiado:  29156 | Fecha de cita:  17-01-2023 | Hora de cita:  11:30 | Tipo de consulta:  Medicina General | Tratamineto 2 pildoras de acetaminofén cada 6 horasa\n"
          ]
        }
      ]
    },
    {
      "cell_type": "markdown",
      "source": [
        "**TAREA MODIFICAR**"
      ],
      "metadata": {
        "id": "thqDLmmMOPZ9"
      }
    },
    {
      "cell_type": "code",
      "source": [
        "lista_d.modificar(\"Gerson López\",\"17-02-2024\",\"08:45\")"
      ],
      "metadata": {
        "id": "lVrOU_9yOOaq"
      },
      "execution_count": 16,
      "outputs": []
    }
  ]
}